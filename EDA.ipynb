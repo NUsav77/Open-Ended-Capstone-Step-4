{
 "cells": [
  {
   "cell_type": "code",
   "execution_count": 16,
   "id": "9d236e62",
   "metadata": {},
   "outputs": [
    {
     "name": "stdout",
     "output_type": "stream",
     "text": [
      "Collecting package metadata (current_repodata.json): ...working... done\n",
      "Solving environment: ...working... done\n",
      "\n",
      "## Package Plan ##\n",
      "\n",
      "  environment location: C:\\Users\\snoda\\anaconda3\n",
      "\n",
      "  added / updated specs:\n",
      "    - cartopy\n",
      "\n",
      "\n",
      "The following packages will be downloaded:\n",
      "\n",
      "    package                    |            build\n",
      "    ---------------------------|-----------------\n",
      "    cartopy-0.18.0             |   py38h80a4efb_1         1.7 MB\n",
      "    conda-4.10.1               |   py38haa95532_1         2.9 MB\n",
      "    geos-3.8.0                 |       h33f27b4_0         905 KB\n",
      "    proj-6.2.1                 |       h9f7ef89_0         7.9 MB\n",
      "    pyshp-2.1.3                |     pyhd3eb1b0_0          37 KB\n",
      "    shapely-1.7.1              |   py38h210f175_0         374 KB\n",
      "    ------------------------------------------------------------\n",
      "                                           Total:        13.7 MB\n",
      "\n",
      "The following NEW packages will be INSTALLED:\n",
      "\n",
      "  cartopy            pkgs/main/win-64::cartopy-0.18.0-py38h80a4efb_1\n",
      "  geos               pkgs/main/win-64::geos-3.8.0-h33f27b4_0\n",
      "  proj               pkgs/main/win-64::proj-6.2.1-h9f7ef89_0\n",
      "  pyshp              pkgs/main/noarch::pyshp-2.1.3-pyhd3eb1b0_0\n",
      "  shapely            pkgs/main/win-64::shapely-1.7.1-py38h210f175_0\n",
      "\n",
      "The following packages will be UPDATED:\n",
      "\n",
      "  conda              conda-forge::conda-4.10.1-py38haa244f~ --> pkgs/main::conda-4.10.1-py38haa95532_1\n",
      "\n",
      "\n",
      "\n",
      "Downloading and Extracting Packages\n",
      "\n",
      "pyshp-2.1.3          | 37 KB     |            |   0% \n",
      "pyshp-2.1.3          | 37 KB     | ####3      |  43% \n",
      "pyshp-2.1.3          | 37 KB     | ########## | 100% \n",
      "pyshp-2.1.3          | 37 KB     | ########## | 100% \n",
      "\n",
      "shapely-1.7.1        | 374 KB    |            |   0% \n",
      "shapely-1.7.1        | 374 KB    | ########## | 100% \n",
      "shapely-1.7.1        | 374 KB    | ########## | 100% \n",
      "\n",
      "proj-6.2.1           | 7.9 MB    |            |   0% \n",
      "proj-6.2.1           | 7.9 MB    | #2         |  12% \n",
      "proj-6.2.1           | 7.9 MB    | ########1  |  81% \n",
      "proj-6.2.1           | 7.9 MB    | ########## | 100% \n",
      "\n",
      "cartopy-0.18.0       | 1.7 MB    |            |   0% \n",
      "cartopy-0.18.0       | 1.7 MB    | #########8 |  98% \n",
      "cartopy-0.18.0       | 1.7 MB    | ########## | 100% \n",
      "\n",
      "conda-4.10.1         | 2.9 MB    |            |   0% \n",
      "conda-4.10.1         | 2.9 MB    | ########## | 100% \n",
      "conda-4.10.1         | 2.9 MB    | ########## | 100% \n",
      "\n",
      "geos-3.8.0           | 905 KB    |            |   0% \n",
      "geos-3.8.0           | 905 KB    | ########## | 100% \n",
      "geos-3.8.0           | 905 KB    | ########## | 100% \n",
      "Preparing transaction: ...working... done\n",
      "Verifying transaction: ...working... done\n",
      "Executing transaction: ...working... done\n"
     ]
    }
   ],
   "source": [
    "# Install cartopy\n",
    "\n",
    "!conda install --yes cartopy"
   ]
  },
  {
   "cell_type": "code",
   "execution_count": 17,
   "id": "f8deeb73",
   "metadata": {},
   "outputs": [],
   "source": [
    "import boto3\n",
    "from datetime import datetime\n",
    "from botocore import UNSIGNED\n",
    "from botocore.client import Config\n",
    "import matplotlib.pyplot as plt\n",
    "from metpy.io import Level2File\n",
    "from metpy.plots import add_timestamp, ctables\n",
    "import cartopy\n",
    "from mpl_toolkits.axes_grid1 import make_axes_locatable\n",
    "import numpy as np"
   ]
  },
  {
   "cell_type": "code",
   "execution_count": 18,
   "id": "4f81a824",
   "metadata": {},
   "outputs": [],
   "source": [
    "s3 = boto3.resource(\"s3\", config=Config(signature_version=UNSIGNED, user_agent_extra='Resource'))\n",
    "bucket = s3.Bucket(\"unidata-nexrad-level2-chunks\")"
   ]
  },
  {
   "cell_type": "code",
   "execution_count": 40,
   "id": "9fcddf22",
   "metadata": {},
   "outputs": [
    {
     "name": "stdout",
     "output_type": "stream",
     "text": [
      "FOP1/1/20210628-075518-001-S\n",
      "FOP1/1/20210628-075518-002-I\n",
      "FOP1/1/20210628-075518-003-I\n",
      "FOP1/1/20210628-075518-004-I\n",
      "FOP1/1/20210628-075518-005-I\n",
      "FOP1/1/20210628-075518-006-I\n",
      "FOP1/1/20210628-075518-007-I\n",
      "FOP1/1/20210628-075518-008-I\n",
      "FOP1/1/20210628-075518-009-I\n",
      "FOP1/1/20210628-075518-010-I\n",
      "FOP1/1/20210628-075518-011-I\n",
      "FOP1/1/20210628-075518-012-I\n",
      "FOP1/1/20210628-075518-013-I\n",
      "FOP1/1/20210628-075518-014-I\n",
      "FOP1/1/20210628-075518-015-I\n",
      "FOP1/1/20210628-075518-016-I\n",
      "FOP1/1/20210628-075518-017-I\n",
      "FOP1/1/20210628-075518-018-I\n",
      "FOP1/1/20210628-075518-019-I\n",
      "FOP1/1/20210628-075518-020-I\n"
     ]
    }
   ],
   "source": [
    "objects = []\n",
    "for obj in bucket.objects.filter(Bucket='unidata-nexrad-level2-chunks', limit=20):\n",
    "    print(obj.key)\n",
    "    objects.append(obj)"
   ]
  },
  {
   "cell_type": "code",
   "execution_count": 52,
   "id": "ed83fd24",
   "metadata": {},
   "outputs": [
    {
     "name": "stderr",
     "output_type": "stream",
     "text": [
      "Unable to read volume header. Attempting to read messages.\n",
      "<ipython-input-52-aeb690d38a83>:21: UserWarning: The input coordinates to pcolormesh are interpreted as cell centers, but are not monotonically increasing or decreasing. This may lead to incorrectly calculated cell edges, in which case, please supply explicit cell edges to pcolormesh.\n",
      "  ax.pcolormesh(xlocs, ylocs, data, cmap=ref_cmap, norm=ref_norm, shading='auto')\n"
     ]
    },
    {
     "data": {
      "text/plain": [
       "(-100.0, 100.0)"
      ]
     },
     "execution_count": 52,
     "metadata": {},
     "output_type": "execute_result"
    },
    {
     "data": {
      "image/png": "[encoded data removed]",
      "text/plain": [
       "<Figure size 1080x1080 with 1 Axes>"
      ]
     },
     "metadata": {
      "needs_background": "light"
     },
     "output_type": "display_data"
    }
   ],
   "source": [
    "f = Level2File(objects[1].get()['Body'])\n",
    "ref_norm, ref_cmap = ctables.registry.get_with_steps('NWSReflectivity', 5, 5)\n",
    "\n",
    "fig, ax = plt.subplots(figsize=(15, 15))\n",
    "\n",
    "sweep = 0\n",
    "\n",
    "az = np.array([ray[0].az_angle for ray in f.sweeps[sweep]])\n",
    "\n",
    "ref_hdr = f.sweeps[sweep][0][4][b'REF'][0]\n",
    "ref_range = np.arange(ref_hdr.num_gates) * ref_hdr.gate_width + ref_hdr.first_gate\n",
    "\n",
    "ref = np.array([ray[4][b'REF'][1] for ray in f.sweeps[sweep]])\n",
    "\n",
    "data = np.ma.array(ref)\n",
    "data[np.isnan(data)] = np.ma.masked\n",
    "\n",
    "xlocs = ref_range * np.sin(np.deg2rad(az[:, np.newaxis]))\n",
    "ylocs = ref_range * np.cos(np.deg2rad(az[:, np.newaxis]))\n",
    "\n",
    "ax.pcolormesh(xlocs, ylocs, data, cmap=ref_cmap, norm=ref_norm, shading='auto')\n",
    "\n",
    "ax.set_aspect('equal', 'datalim')\n",
    "ax.set_xlim(-100, 100)\n",
    "ax.set_ylim(-100, 100)"
   ]
  },
  {
   "cell_type": "code",
   "execution_count": null,
   "id": "8f9c9ecb",
   "metadata": {},
   "outputs": [],
   "source": []
  }
 ],
 "metadata": {
  "kernelspec": {
   "display_name": "Python 3",
   "language": "python",
   "name": "python3"
  },
  "language_info": {
   "codemirror_mode": {
    "name": "ipython",
    "version": 3
   },
   "file_extension": ".py",
   "mimetype": "text/x-python",
   "name": "python",
   "nbconvert_exporter": "python",
   "pygments_lexer": "ipython3",
   "version": "3.8.8"
  }
 },
 "nbformat": 4,
 "nbformat_minor": 5
}
